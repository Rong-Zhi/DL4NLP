{
 "cells": [
  {
   "cell_type": "markdown",
   "metadata": {},
   "source": [
    "# DL4NLP SS17 Home Exercise 02\n",
    "----------------------------------\n",
    "**Due until Tuesday, 02.05. at 13:00**"
   ]
  },
  {
   "cell_type": "markdown",
   "metadata": {},
   "source": [
    "## Task 1 Mandatory Video (1P)\n",
    "Watch [this week's mandatory video](https://www.youtube.com/watch?v=GUtlrDbHhJM&t=277s&list=PLlJy-eBtNFt6EuMxFYRiNRS07MCWN5UIA&index=5) and answer the following question: Which six activation functions are discussed during the talk?\n",
    "\n",
    "Hint: They are shown on a summary slide among the first 30 slides."
   ]
  },
  {
   "cell_type": "markdown",
   "metadata": {},
   "source": [
    "## Task 2 Sentiment Polarity in Movie Reviews (9P)\n",
    "The movie-review dataset (http://www.cs.cornell.edu/people/pabo/movie-review-data/) consists of movie reviews labeled with sentiment polarity (i.e. \"positive review\" or \"negative review\"). Your task is to implement a variation of the perceptron from last week which learns to identify the sentiment in a review.\n",
    "\n",
    "#### Data\n",
    "In the `hex02_data` archive, you can find a training, development and test dataset. Each line in these datasets has three entries, separated by a tab character (`\\t`). The first is the movie review (available only for reference), the second is the sentiment label (`POS`itive or `NEG`ative). To facilitate the task, the third entry is a 100-dimensional vector representing the review (we'll cover in later lectures on *word embeddings* how this sentence representation has been generated).\n",
    "\n",
    "#### Perceptron\n",
    "* As the loss function, choose square-loss:\n",
    "\\begin{equation}\n",
    "    L = \\sum_{j=1}^N \\ell(\\mathbf{x}_j, y) = \\sum_{j=1}^N (\\sigma(\\mathbf{x}_j \\cdot \\mathbf{w}) - y_j)^2\n",
    "\\end{equation}\n",
    "* For the activation function, use the sigmoid function.\n",
    "\n",
    "* For the weight update rule, use the following mini-batch stochastic gradient descent formula:\n",
    "\\begin{equation}\n",
    "    w' \\leftarrow w - \\frac{\\alpha}{|\\mathcal{T}'|} \\cdot \\sum_{(\\mathbf{x},y)\\in\\mathcal{T}'} \\Bigl(\\sigma(\\mathbf{x} \\cdot \\mathbf{w}) - y\\Bigr) \\cdot \\sigma'(\\mathbf{x} \\cdot \\mathbf{w}) \\cdot x^T\n",
    "\\end{equation}\n",
    "Reminder: $\\mathcal{T'}$ is a mini-batch; a random subset of the whole training data $\\mathcal{T}$. A typical way of implementing random mini-batches is to randomly shuffle the whole training dataset before each epoch, then divide the training dataset into batches of size $|\\mathcal{T'}|$. Consider setting the numpy random seed for reproducible results.\n",
    "\n",
    "* Use the 100-dimensional vectors from the datasets for the input vectors $\\mathbf{x}$. Encode the corresponding label as $y=1$ for `POS` and $y=0$ for `NEG` (i.e. according to the co-domain of the sigmoid activation function). **Append a trailing 1 to each input vector $\\mathbf{x}$ for the bias (cf. lecture 01, slide 92).**\n",
    "\n",
    "* Initialize the weight vector via `w=np.random.normal(0,1,(N,1))`, where $N$ is the dimensionality of your input data.\n",
    "\n",
    "#### Hints on the Submission Format\n",
    "* Please submit your python code for all the tasks where it is applicable. Make sure to include comments explaining complicated/non-obvious sections of your code.\n",
    "* Please also submit a copy of the console output of your code execution. Your code might run in 10 minutes on your watercooled battlestation, but it might not run in 10 minutes for the person who corrects your home exercises. Thank you!\n",
    "\n",
    "\n",
    "### Task 2.1 Dataset reader (1P)\n",
    "Implement a reader for the dataset files which returns the input vectors $\\mathbf{x}$ and labels $y$ as numpy arrays. The shape and number of returned arrays is up to you.\n",
    "\n",
    "### Task 2.2 Numpy implementation (5P)\n",
    "\n",
    "a) Implement the perceptron stated above only using numpy. Include a method which computes the square loss and the accuracy of the model, given a dataset and a weight vector `w`. (3P)\n",
    "\n",
    "Hint: In order to compute the accuracy, you need to find a meaningful way to interpret your perceptron's prediction $\\sigma(\\mathbf{x} \\cdot \\mathbf{w})$ for a given test input $\\mathbf{x}$ and trained weights $\\mathbf{w}$.\n",
    "\n",
    "b) Train your perceptron on the training data and observe its accuracy on the **development** set. Start with batch size $|\\mathcal{T}'| = 10$, learning rate $\\alpha = 0.01$ and 100 epochs. Experiment with different values for these three hyperparameters. Can you find a configuration which beats 70% accuracy on the development set? Report your best configuration and both the loss and accuracy it reaches on the **development and test** sets. (1P)\n",
    "\n",
    "c) Create a plot similar to the one from lecture 02, slide 18, i.e. plot the loss on the training set and the development set vs. the number of training epochs. For this purpose, run your perceptron with batch size $|\\mathcal{T}'| = 1$ and learning rate $\\alpha = 0.001$ for a large number of epochs (>2500). Which number of epochs is reasonable? Why does the loss on the development set **not** increase over time, contrary to the figure from the lecture? (1P)\n",
    "\n",
    "Hint: For comparable results in the plot, normalize the loss by the number of instances in the training/test dataset.\n",
    "\n",
    "### Task 2.3 TensorFlow (3P)\n",
    "[Install TensorFlow](https://www.tensorflow.org/install/) on your machine and reimplement the perceptron with TensorFlow. Using the initial hyperparameter configuration mentioned in Task 2.2 b), [compare the runtime](http://stackoverflow.com/a/7370824) for training your TensorFlow and your numpy perceptrons for an average of 10 executions. Which one runs faster on your machine?"
   ]
  },
  {
   "cell_type": "markdown",
   "metadata": {},
   "source": [
    "# Answer"
   ]
  },
  {
   "cell_type": "markdown",
   "metadata": {},
   "source": [
    "## Task 1"
   ]
  },
  {
   "cell_type": "markdown",
   "metadata": {
    "collapsed": true
   },
   "source": [
    "Sigmoid function\n",
    "ReLu\n",
    "Leaky ReLu\n",
    "Maxout\n",
    "Tanh\n",
    "ELU"
   ]
  },
  {
   "cell_type": "markdown",
   "metadata": {},
   "source": [
    "## Task 2.1"
   ]
  },
  {
   "cell_type": "code",
   "execution_count": 3,
   "metadata": {
    "collapsed": true
   },
   "outputs": [],
   "source": [
    "import tensorflow as tf\n",
    "import numpy as np\n",
    "import random\n",
    "import matplotlib.pyplot as plt\n",
    "from matplotlib import style\n",
    "%matplotlib inline"
   ]
  },
  {
   "cell_type": "code",
   "execution_count": 4,
   "metadata": {
    "collapsed": true
   },
   "outputs": [],
   "source": [
    "Train = open(\"./DATA/rt-polarity.train.vecs\",\"r\").read()\n",
    "Test = open(\"./DATA/rt-polarity.test.vecs\",\"r\").read()\n",
    "Dev = open(\"./DATA/rt-polarity.dev.vecs\",\"r\").read()"
   ]
  },
  {
   "cell_type": "markdown",
   "metadata": {},
   "source": [
    "## Task 2.2 \n",
    "(a)  Implement the perceptron stated above only using numpy. Include a method which computes the square loss and the accuracy of the model, given a dataset and a weight vector w. "
   ]
  },
  {
   "cell_type": "code",
   "execution_count": 5,
   "metadata": {
    "collapsed": true
   },
   "outputs": [],
   "source": [
    "# define function and update rule here\n",
    "# split the data into vectors and labels\n",
    "def Split_data(dataset):\n",
    "    Vec = []\n",
    "    Y = []\n",
    "    p = 0\n",
    "    for m in dataset.split('\\n'):  # split each line\n",
    "        for n in m.split('\\t'):   # split according to \\t\n",
    "            if p == 2 :\n",
    "                Vec.append(n)     # append vector\n",
    "                p = 0\n",
    "            elif p == 1 :\n",
    "                Y.append(int(n=='label=POS')) # append class\n",
    "                p = 2\n",
    "            else:\n",
    "                p = 1\n",
    "    x_vec = []\n",
    "    X_vec = []\n",
    "    for m in Vec:\n",
    "        for n in m.split(' '):\n",
    "            x_vec.append(float(n))      # transfer string into number\n",
    "        x_vec.append(1)\n",
    "        X_vec.append(x_vec)\n",
    "        x_vec = []\n",
    "    Y = np.array(Y)\n",
    "    return np.array(X_vec), Y[:,np.newaxis]    # X is word vector , Y is label\n",
    "\n",
    "# shuffle the data\n",
    "def batch(X,Y):\n",
    "    input = list(zip(Y,X))\n",
    "    random.shuffle(input)\n",
    "    np.random.seed(0)\n",
    "    mini_batch = np.random.randint(15)\n",
    "    input_data = [m[1] for m in input]\n",
    "    input_label = [m[0] for m in input]\n",
    "    X = input_data[:mini_batch]\n",
    "    Y = input_label[:mini_batch]\n",
    "    return np.array(X),np.array(Y)\n",
    "\n",
    "# sigmoid function \n",
    "def sig(x):\n",
    "    return 1 / (1 + np.exp(-x))\n",
    "    \n",
    "# derivative of sigmoid\n",
    "def dsig(x):\n",
    "    return sig(x) * (1-sig(x))\n",
    "\n",
    "# update of weights\n",
    "def update(w_old,x_batch,y_batch,alpha,batch_size):\n",
    "    y_pred = sig(np.dot(x_batch , w_old))\n",
    "    s_sig = sum(y_pred - y_batch)\n",
    "    tmp = np.dot(x_batch.T,dsig(y_pred))\n",
    "    w_new = w_old - (alpha/batch_size)*s_sig* tmp\n",
    "    return w_new\n",
    "\n",
    "# Loss\n",
    "def square_loss(y_true,y_pred):\n",
    "    loss = np.multiply(y_pred-y_true,y_pred-y_true)\n",
    "    return np.sum(loss)\n",
    "\n",
    "# Accuracy\n",
    "def accuracy(y_true,y_pred):\n",
    "    n = 0\n",
    "    for m in range(len(y_true)):\n",
    "        n+= int(y_true[m] == np.rint(y_pred[m]))\n",
    "    return n/len(y_true)"
   ]
  },
  {
   "cell_type": "markdown",
   "metadata": {},
   "source": [
    "b) Train your perceptron on the training data and observe its accuracy on the **development** set. Start with batch size $|\\mathcal{T}'| = 10$, learning rate $\\alpha = 0.01$ and 100 epochs. Experiment with different values for these three hyperparameters. Can you find a configuration which beats 70% accuracy on the development set? Report your best configuration and both the loss and accuracy it reaches on the **development and test** sets.\n"
   ]
  },
  {
   "cell_type": "code",
   "execution_count": 6,
   "metadata": {
    "scrolled": true
   },
   "outputs": [
    {
     "name": "stderr",
     "output_type": "stream",
     "text": [
      "/usr/local/lib/python3.5/dist-packages/ipykernel_launcher.py:42: RuntimeWarning: overflow encountered in exp\n"
     ]
    },
    {
     "name": "stdout",
     "output_type": "stream",
     "text": [
      "Accuracy of Training set: 0.6666666666666666\n",
      "Loss of Training set: 762.041329292\n",
      "Accuracy of testing set: 0.48717948717948717\n",
      "Loss of testing set: 811.840178641\n",
      "Accuracy of development set: 0.5209505941213258\n",
      "Loss of development set: 762.041329292\n"
     ]
    }
   ],
   "source": [
    "X_train, Y_train = Split_data(Train)\n",
    "X_test, Y_test = Split_data(Test)\n",
    "X_dev, Y_dev = Split_data(Dev)\n",
    "batch_size = 10\n",
    "alpha = 0.01\n",
    "N = 100\n",
    "w = np.random.normal(0,1,(N,1))\n",
    "w_old = np.vstack((w,1))\n",
    "for episode in range(100):\n",
    "    x_batch,y_batch=batch(X_train,Y_train)\n",
    "    w_new = update(w_old,x_batch,y_batch,alpha,batch_size)\n",
    "    w_old = w_new\n",
    "    y_pred = sig(np.dot(X_dev,w_new))\n",
    "print(\"Accuracy of Training set:\",accuracy(y_batch,y_pred))\n",
    "print(\"Loss of Training set:\",square_loss(Y_dev,y_pred))    \n",
    "y_after = sig(np.dot(X_test,w_new))\n",
    "print(\"Accuracy of testing set:\",accuracy(Y_test,y_after))\n",
    "print(\"Loss of testing set:\",square_loss(Y_test,y_after))\n",
    "y_d = sig(np.dot(X_dev,w_new))\n",
    "print(\"Accuracy of development set:\",accuracy(Y_dev,y_d))\n",
    "print(\"Loss of development set:\",square_loss(Y_dev,y_d))"
   ]
  },
  {
   "cell_type": "markdown",
   "metadata": {},
   "source": [
    "c) Create a plot similar to the one from lecture 02, slide 18, i.e. plot the loss on the training set and the development set vs. the number of training epochs. For this purpose, run your perceptron with batch size $|\\mathcal{T}'| = 1$ and learning rate $\\alpha = 0.001$ for a large number of epochs (>2500). Which number of epochs is reasonable? Why does the loss on the development set **not** increase over time, contrary to the figure from the lecture? "
   ]
  },
  {
   "cell_type": "code",
   "execution_count": 7,
   "metadata": {},
   "outputs": [
    {
     "name": "stderr",
     "output_type": "stream",
     "text": [
      "/usr/local/lib/python3.5/dist-packages/ipykernel_launcher.py:42: RuntimeWarning: overflow encountered in exp\n"
     ]
    },
    {
     "data": {
      "image/png": "[encoded data removed]",
      "text/plain": [
       "<matplotlib.figure.Figure at 0x7fe53c0b1630>"
      ]
     },
     "metadata": {},
     "output_type": "display_data"
    }
   ],
   "source": [
    "batch_size = 1\n",
    "alpha = 0.01\n",
    "N = 100\n",
    "w = np.random.normal(0,1,(N,1))\n",
    "w_old = np.vstack((w,1))\n",
    "Loss_t = []\n",
    "Step = []\n",
    "Loss_d = []\n",
    "for episode in range(2000):\n",
    "    x_batch,y_batch=batch(X_train,Y_train)\n",
    "    w_new = update(w_old,x_batch,y_batch,alpha,batch_size)\n",
    "    w_old = w_new\n",
    "    y_pred = sig(np.dot(X_train,w_new))\n",
    "    Loss_t.append(square_loss(Y_train,y_pred))\n",
    "    Step.append(episode)\n",
    "    y_dev = sig(np.dot(X_dev,w_new))\n",
    "    Loss_d.append(square_loss(Y_dev,y_dev))   \n",
    "style.use('ggplot')\n",
    "plt.plot(Step,Loss_t,'sandybrown',label='training loss')\n",
    "plt.legend()\n",
    "plt.ylabel('Training loss')\n",
    "plt.xlabel('Step')\n",
    "plt.plot(Step,Loss_d,'sandybrown',label='develop loss')\n",
    "plt.ylabel('Develop loss')\n",
    "plt.xlabel('Step')\n",
    "plt.show()"
   ]
  },
  {
   "cell_type": "code",
   "execution_count": null,
   "metadata": {},
   "outputs": [],
   "source": []
  },
  {
   "cell_type": "code",
   "execution_count": null,
   "metadata": {},
   "outputs": [],
   "source": []
  },
  {
   "cell_type": "code",
   "execution_count": null,
   "metadata": {
    "collapsed": true
   },
   "outputs": [],
   "source": []
  }
 ],
 "metadata": {
  "kernelspec": {
   "display_name": "Python 3",
   "language": "python",
   "name": "python3"
  },
  "language_info": {
   "codemirror_mode": {
    "name": "ipython",
    "version": 3
   },
   "file_extension": ".py",
   "mimetype": "text/x-python",
   "name": "python",
   "nbconvert_exporter": "python",
   "pygments_lexer": "ipython3",
   "version": "3.5.2"
  }
 },
 "nbformat": 4,
 "nbformat_minor": 2
}
