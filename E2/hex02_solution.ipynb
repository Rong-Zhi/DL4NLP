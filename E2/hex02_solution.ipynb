{
 "cells": [
  {
   "cell_type": "markdown",
   "metadata": {
    "deletable": true,
    "editable": true
   },
   "source": [
    "# DL4NLP SS17 Home Exercise 02\n",
    "----------------------------------\n",
    "**Due until Tuesday, 02.05. at 13:00**"
   ]
  },
  {
   "cell_type": "markdown",
   "metadata": {
    "deletable": true,
    "editable": true
   },
   "source": [
    "## Task 1 Mandatory Video (1P)\n",
    "Watch [this week's mandatory video](https://www.youtube.com/watch?v=GUtlrDbHhJM&t=277s&list=PLlJy-eBtNFt6EuMxFYRiNRS07MCWN5UIA&index=5) and answer the following question: Which six activation functions are discussed during the talk?\n",
    "\n",
    "Hint: They are shown on a summary slide among the first 30 slides.\n",
    "\n",
    "### Solution\n",
    "Slide 5-29: Sigmoid, tanh, ReLU, Leaky ReLU, Maxout, EL"
   ]
  },
  {
   "cell_type": "markdown",
   "metadata": {
    "deletable": true,
    "editable": true
   },
   "source": [
    "## Task 2 Sentiment Polarity in Movie Reviews (9P)\n",
    "The movie-review dataset (http://www.cs.cornell.edu/people/pabo/movie-review-data/) consists of movie reviews labeled with sentiment polarity (i.e. \"positive review\" or \"negative review\"). Your task is to implement a variation of the perceptron from last week which learns to identify the sentiment in a review.\n",
    "\n",
    "#### Data\n",
    "In the `hex02_data` archive, you can find a training, development and test dataset. Each line in these datasets has three entries, separated by a tab character (`\\t`). The first is the movie review (available only for reference), the second is the sentiment label (`POS`itive or `NEG`ative). To facilitate the task, the third entry is a 100-dimensional vector representing the review (we'll cover in later lectures on *word embeddings* how this sentence representation has been generated).\n",
    "\n",
    "#### Perceptron\n",
    "* As the loss function, choose square-loss:\n",
    "\\begin{equation}\n",
    "    L = \\sum_{j=1}^N \\ell(\\mathbf{x}_j, y) = \\sum_{j=1}^N (\\sigma(\\mathbf{x}_j \\cdot \\mathbf{w}) - y_j)^2\n",
    "\\end{equation}\n",
    "* For the activation function, use the sigmoid function.\n",
    "\n",
    "* For the weight update rule, use the following mini-batch stochastic gradient descent formula:\n",
    "\\begin{equation}\n",
    "    w' \\leftarrow w - \\frac{\\alpha}{|\\mathcal{T}'|} \\cdot \\sum_{(\\mathbf{x},y)\\in\\mathcal{T}'} \\Bigl(\\sigma(\\mathbf{x} \\cdot \\mathbf{w}) - y\\Bigr) \\cdot \\sigma'(\\mathbf{x} \\cdot \\mathbf{w}) \\cdot x^T\n",
    "\\end{equation}\n",
    "Reminder: $\\mathcal{T'}$ is a mini-batch; a random subset of the whole training data $\\mathcal{T}$. A typical way of implementing random mini-batches is to randomly shuffle the whole training dataset before each epoch, then divide the training dataset into batches of size $|\\mathcal{T'}|$. Consider setting the numpy random seed for reproducible results.\n",
    "\n",
    "* Use the 100-dimensional vectors from the datasets for the input vectors $\\mathbf{x}$. Encode the corresponding label as $y=1$ for `POS` and $y=0$ for `NEG` (i.e. according to the co-domain of the sigmoid activation function). **Append a trailing 1 to each input vector $\\mathbf{x}$ for the bias (cf. lecture 01, slide 92).**\n",
    "\n",
    "* Initialize the weight vector via `w=np.random.normal(0,1,(N,1))`, where $N$ is the dimensionality of your input data.\n",
    "\n",
    "#### Hints on the Submission Format\n",
    "* Please submit your python code for all the tasks where it is applicable. Make sure to include comments explaining complicated/non-obvious sections of your code.\n",
    "* Please also submit a copy of the console output of your code execution. Your code might run in 10 minutes on your watercooled battlestation, but it might not run in 10 minutes for the person who corrects your home exercises. Thank you!\n",
    "\n",
    "\n",
    "### Task 2.1 Dataset reader (1P)\n",
    "Implement a reader for the dataset files which returns the input vectors $\\mathbf{x}$ and labels $y$ as numpy arrays. The shape and number of returned arrays is up to you."
   ]
  },
  {
   "cell_type": "code",
   "execution_count": 1,
   "metadata": {
    "collapsed": false
   },
   "outputs": [],
   "source": [
    "import numpy as np\n",
    "import os\n",
    "\n",
    "label_pos = 1\n",
    "label_neg = 0\n",
    "\n",
    "data_dim = 100\n",
    "data_dim_with_bias = data_dim + 1\n",
    "\n",
    "def read_dataset(src):\n",
    "    \"\"\"Reads a dataset from the specified path and returns input vectors and labels in an array of shape (n, 101).\"\"\"\n",
    "    with open(src, 'r') as src_file:\n",
    "        # preallocate memory for the data\n",
    "        num_lines = sum(1 for line in src_file)\n",
    "        data = np.empty((num_lines, data_dim_with_bias), dtype=np.float16)\n",
    "        labels = np.empty((num_lines, 1), dtype=np.float16)\n",
    "\n",
    "        # reset the file pointer to the beginning of the file\n",
    "        src_file.seek(0)\n",
    "        for i, line in enumerate(src_file):\n",
    "            _, str_label, str_vec = line.split('\\t')\n",
    "            labels[i] = label_pos if str_label.split('=')[1] == \"POS\" else label_neg\n",
    "            data[i,:data_dim] = [float(f) for f in str_vec.split()]\n",
    "            data[i,data_dim] = 1\n",
    "    return data, labels\n",
    "\n",
    "def get_dataset(src_folder, name=\"train\"):\n",
    "    path = os.path.join(src_folder, \"rt-polarity.{}.vecs\".format(name))\n",
    "    return read_dataset(path)\n",
    "\n",
    "def get_random_batches(X, y, batch_size):\n",
    "    perm = np.random.permutation(len(y))\n",
    "    X = X[perm]\n",
    "    y = y[perm]\n",
    "    # when using array_split for 100 datapoints and batch size 33 one would get batches [33, 33, 33, 1]\n",
    "    X_batches = np.array_split(X, len(y)//batch_size)\n",
    "    y_batches = np.array_split(y, len(y)//batch_size)\n",
    "    return X_batches, y_batches\n",
    "\n",
    "# load the data\n",
    "train_x, train_y, = get_dataset(\"DATA\", \"train\")\n",
    "dev_x, dev_y = get_dataset(\"DATA\", \"dev\")\n",
    "test_x, test_y = get_dataset(\"DATA\", \"test\")"
   ]
  },
  {
   "cell_type": "markdown",
   "metadata": {},
   "source": [
    "### Task 2.2 Numpy implementation (5P)\n",
    "\n",
    "a) Implement the perceptron stated above only using numpy. Include a method which computes the square loss and the accuracy of the model, given a dataset and a weight vector `w`. (3P)\n",
    "\n",
    "Hint: In order to compute the accuracy, you need to find a meaningful way to interpret your perceptron's prediction $\\sigma(\\mathbf{x} \\cdot \\mathbf{w})$ for a given test input $\\mathbf{x}$ and trained weights $\\mathbf{w}$."
   ]
  },
  {
   "cell_type": "code",
   "execution_count": 2,
   "metadata": {
    "collapsed": false
   },
   "outputs": [],
   "source": [
    "import progressbar as pb\n",
    "\n",
    "test_every_ith_epoch = 20\n",
    "\n",
    "def sigmoid(v):\n",
    "      return 1.0 / (1+np.exp(-v))\n",
    "\n",
    "def train_np(train_x, train_y, w, epochs, batch_size, learning_rate):\n",
    "\n",
    "    def epoch(train_x, train_y, w_init, batch_size, learning_rate):\n",
    "        w = w_init\n",
    "        train_x_batches, train_y_batches = get_random_batches(train_x, train_y, batch_size)\n",
    "        for X_batch, y_batch in zip(train_x_batches, train_y_batches):\n",
    "            grad = 0\n",
    "            for x, y in zip(X_batch, y_batch):\n",
    "                sigxw = sigmoid(np.dot(x, w))\n",
    "                grad += (sigxw-y) * sigxw * (1 - sigxw) * x\n",
    "            # average the gradient\n",
    "            grad /= len(y_batch)\n",
    "            w -= learning_rate * grad\n",
    "        return w\n",
    "  \n",
    "    # keep track of losses on the train and dev sets for the plot in Task 2.2 b)\n",
    "    losses_train = []\n",
    "    losses_dev = []\n",
    "    bar = pb.ProgressBar(max_value=epochs)\n",
    "    for i in bar(range(epochs)):\n",
    "        w = epoch(train_x, train_y, w, batch_size, learning_rate)\n",
    "    \n",
    "        # compute the loss every i epochs\n",
    "        if not i%test_every_ith_epoch:\n",
    "            loss, _ = test_np(dev_x, dev_y, w)\n",
    "            losses_dev.append(loss)      \n",
    "            loss, _ = test_np(train_x, train_y, w)\n",
    "            losses_train.append(loss)\n",
    "    return w, losses_train, losses_dev\n",
    "\n",
    "\n",
    "def test_np(test_x, test_y, w):\n",
    "    predictions = [sigmoid(np.dot(x, w)) for x in test_x]\n",
    "    predictions_discrete = [np.rint(pred) for pred in predictions]\n",
    "    \n",
    "    n = len(test_y)    \n",
    "    mean_square_loss = sum([(pred - y)**2 for pred, y in zip(predictions, test_y)])/n\n",
    "    accuracy = sum([pred == y for pred, y in zip(predictions_discrete, test_y)])/n\n",
    "\n",
    "    return mean_square_loss, accuracy\n",
    "\n",
    "def run_numpy(epochs=100, batch_size=10, learning_rate=0.01):\n",
    "    np.random.seed(seed=42)\n",
    "    np.seterr(all='ignore')\n",
    "\n",
    "    w_init = np.random.normal(0, 1, (data_dim_with_bias))\n",
    "    w,losses_train,losses_dev = train_np(train_x, train_y, w_init, epochs, batch_size, learning_rate)\n",
    "\n",
    "    #print results on dev and test\n",
    "    loss, accuracy = test_np(dev_x, dev_y, w)\n",
    "    print(\"Loss on dev after {} epochs: {}, accuracy: {}\".format(epochs, loss, accuracy))\n",
    "    loss, accuracy = test_np(test_x, test_y, w)\n",
    "    print(\"Loss on test after {} epochs: {}, accuracy: {}\".format(epochs, loss, accuracy))\n",
    "\n",
    "    # return values for the plot\n",
    "    return losses_train, losses_dev"
   ]
  },
  {
   "cell_type": "markdown",
   "metadata": {},
   "source": [
    "b) Train your perceptron on the training data and observe its accuracy on the **development** set. Start with batch size $|\\mathcal{T}'| = 10$, learning rate $\\alpha = 0.01$ and 100 epochs. Experiment with different values for these three hyperparameters. Can you find a configuration which beats 70% accuracy on the development set? Report your best configuration and both the loss and accuracy it reaches on the **development and test** sets. (1P)"
   ]
  },
  {
   "cell_type": "code",
   "execution_count": 3,
   "metadata": {
    "collapsed": false
   },
   "outputs": [
    {
     "name": "stderr",
     "output_type": "stream",
     "text": [
      "100% (100 of 100) |######################################################################| Elapsed Time: 0:00:09 Time: 0:00:09  1% (1 of 100) |                                                                         | Elapsed Time: 0:00:00 ETA: 0:00:16\n",
      "  0% (1 of 500) |                                                                         | Elapsed Time: 0:00:00 ETA: 0:01:05"
     ]
    },
    {
     "name": "stdout",
     "output_type": "stream",
     "text": [
      "Loss on dev after 100 epochs: [ 0.3056598], accuracy: [ 0.69043152]\n",
      "Loss on test after 100 epochs: [ 0.32520324], accuracy: [ 0.66979362]\n"
     ]
    },
    {
     "name": "stderr",
     "output_type": "stream",
     "text": [
      "100% (500 of 500) |######################################################################| Elapsed Time: 0:00:40 Time: 0:00:40  0% (4 of 500) |                                                                         | Elapsed Time: 0:00:00 ETA: 0:00:49\n"
     ]
    },
    {
     "name": "stdout",
     "output_type": "stream",
     "text": [
      "Loss on dev after 500 epochs: [ 0.27939337], accuracy: [ 0.71732333]\n",
      "Loss on test after 500 epochs: [ 0.29846779], accuracy: [ 0.69981238]\n"
     ]
    }
   ],
   "source": [
    "# initial parameters\n",
    "_,_ = run_numpy()\n",
    "# console output:\n",
    "# Loss on dev after 100 epochs: [ 0.3056598], accuracy: [ 0.69043152]\n",
    "# Loss on test after 100 epochs: [ 0.32520324], accuracy: [ 0.66979362]\n",
    "\n",
    "# better parameters\n",
    "_,_ = run_numpy(epochs=500, batch_size=25, learning_rate=0.05)\n",
    "# console output:\n",
    "# Loss on dev after 500 epochs: [ 0.27939337], accuracy: [ 0.71732333]\n",
    "# Loss on test after 500 epochs: [ 0.29846779], accuracy: [ 0.69981238]"
   ]
  },
  {
   "cell_type": "markdown",
   "metadata": {},
   "source": [
    "c) Create a plot similar to the one from lecture 02, slide 18, i.e. plot the loss on the training set and the development set vs. the number of training epochs. For this purpose, run your perceptron with batch size $|\\mathcal{T}'| = 1$ and learning rate $\\alpha = 0.001$ for a large number of epochs (>2500). Which number of epochs is reasonable? Why does the loss on the development set **not** increase over time, contrary to the figure from the lecture? (1P)\n",
    "\n",
    "Hint: For comparable results in the plot, normalize the loss by the number of instances in the training/test dataset."
   ]
  },
  {
   "cell_type": "code",
   "execution_count": 4,
   "metadata": {
    "collapsed": false
   },
   "outputs": [
    {
     "name": "stderr",
     "output_type": "stream",
     "text": [
      "100% (2500 of 2500) |####################################################################| Elapsed Time: 0:06:43 Time: 0:06:43  0% (1 of 2500) |                                                                        | Elapsed Time: 0:00:00 ETA: 0:10:14\n"
     ]
    },
    {
     "name": "stdout",
     "output_type": "stream",
     "text": [
      "Loss on dev after 2500 epochs: [ 0.27392119], accuracy: [ 0.72357724]\n",
      "Loss on test after 2500 epochs: [ 0.3056598], accuracy: [ 0.6916823]\n"
     ]
    },
    {
     "data": {
      "image/png": "[encoded data removed]",
      "text/plain": [
       "<matplotlib.figure.Figure at 0x7f0327858630>"
      ]
     },
     "metadata": {},
     "output_type": "display_data"
    }
   ],
   "source": [
    "%matplotlib inline\n",
    "import matplotlib.pyplot as plt\n",
    "\n",
    "losses_train, losses_dev = run_numpy(epochs=2500, batch_size=1, learning_rate=0.001)\n",
    "\n",
    "x_vals = [test_every_ith_epoch*i for i in range(len(losses_train))]\t\n",
    "plt.plot(x_vals, losses_train, '-r', label='train loss')\n",
    "plt.plot(x_vals, losses_dev, '-b', label='dev loss')\n",
    "_ = plt.legend()"
   ]
  },
  {
   "cell_type": "markdown",
   "metadata": {},
   "source": [
    "### Solution\n",
    "Improvement in terms of loss on the development set stagnates after roughly 800 epochs. A good early stopping point could therefore be 800 epochs. The loss on the development set does not start to increase for late epochs because, roughly speaking, the data is more complex than the model. The linear decision boundary of our perceptron is not expressive enough to overfit noise in the training data."
   ]
  },
  {
   "cell_type": "markdown",
   "metadata": {},
   "source": [
    "### Task 2.3 TensorFlow (3P)\n",
    "[Install TensorFlow](https://www.tensorflow.org/install/) on your machine and reimplement the perceptron with TensorFlow. Using the initial hyperparameter configuration mentioned in Task 2.2 b), [compare the runtime](http://stackoverflow.com/a/7370824) for training your TensorFlow and your numpy perceptrons for an average of 10 executions. Which one runs faster on your machine?"
   ]
  },
  {
   "cell_type": "code",
   "execution_count": 5,
   "metadata": {
    "collapsed": false
   },
   "outputs": [],
   "source": [
    "import tensorflow as tf\n",
    "import progressbar as pb\n",
    "import time\n",
    "\n",
    "class Model:\n",
    "    def __init__(self, learning_rate):\n",
    "        # set up the model\n",
    "        self.X = tf.placeholder(tf.float16, shape=(None, data_dim_with_bias))\n",
    "        self.y = tf.placeholder(tf.float16, shape=(None, 1))\n",
    "        self.w = tf.get_variable(\"weights\",\n",
    "                            shape=(data_dim_with_bias, 1),\n",
    "                            dtype=tf.float16,\n",
    "                            initializer=tf.random_normal_initializer())\n",
    "        self.perceptron = tf.sigmoid(tf.matmul(self.X, self.w))\n",
    "        self.loss = tf.losses.mean_squared_error(self.y, self.perceptron)\n",
    "        self.sgd = tf.train.GradientDescentOptimizer(learning_rate).minimize(self.loss)\n",
    "\n",
    "def train_tf(sess, model, train_x, train_y, epochs, batch_size):    \n",
    "    bar = pb.ProgressBar(max_value=epochs)\n",
    "    for i in bar(range(epochs)):\n",
    "        train_x_batches, train_y_batches = get_random_batches(train_x, train_y, batch_size)\n",
    "        for X_batch, y_batch in zip(train_x_batches, train_y_batches):\n",
    "            _, w_val = sess.run([model.sgd, model.w], feed_dict={model.X:X_batch, model.y:y_batch})\n",
    "    \n",
    "def test_tf(sess, model, test_x, test_y):\n",
    "    loss, predictions = sess.run([model.loss, model.perceptron], feed_dict={model.X:test_x, model.y:test_y})\n",
    "    accuracy = np.sum(np.equal(test_y, np.rint(predictions))) / len(test_y)\n",
    "    return loss, accuracy\n",
    "                  \n",
    "def run_tensorflow(epochs=100, batch_size=10, learning_rate=0.01):\n",
    "    tf.set_random_seed(42)\n",
    "    \n",
    "    # set up the model\n",
    "    model = Model(learning_rate)\n",
    "        \n",
    "    with tf.Session() as sess:\n",
    "        sess.run(tf.global_variables_initializer())\n",
    "        train_tf(sess, model, train_x, train_y, epochs, batch_size)\n",
    "        \n",
    "        #print results on dev and test\n",
    "        loss, accuracy = test_tf(sess, model, dev_x, dev_y)\n",
    "        print(\"Loss on dev after {} epochs: {}, accuracy: {}\".format(epochs, loss, accuracy))\n",
    "        loss, accuracy = test_tf(sess, model, test_x, test_y)\n",
    "        print(\"Loss on test after {} epochs: {}, accuracy: {}\".format(epochs, loss, accuracy))\n",
    "    \n",
    "    tf.reset_default_graph()"
   ]
  },
  {
   "cell_type": "code",
   "execution_count": 6,
   "metadata": {
    "collapsed": false
   },
   "outputs": [
    {
     "name": "stderr",
     "output_type": "stream",
     "text": [
      "100% (100 of 100) |######################################################################| Elapsed Time: 0:00:08 Time: 0:00:08  1% (1 of 100) |                                                                         | Elapsed Time: 0:00:00 ETA: 0:00:14\n",
      "  1% (1 of 100) |                                                                         | Elapsed Time: 0:00:00 ETA: 0:00:14"
     ]
    },
    {
     "name": "stdout",
     "output_type": "stream",
     "text": [
      "Loss on dev after 100 epochs: [ 0.3056598], accuracy: [ 0.69043152]\n",
      "Loss on test after 100 epochs: [ 0.32520324], accuracy: [ 0.66979362]\n"
     ]
    },
    {
     "name": "stderr",
     "output_type": "stream",
     "text": [
      "100% (100 of 100) |######################################################################| Elapsed Time: 0:00:09 Time: 0:00:09  3% (3 of 100) |##                                                                       | Elapsed Time: 0:00:00 ETA: 0:00:10\n",
      "  1% (1 of 100) |                                                                         | Elapsed Time: 0:00:00 ETA: 0:00:14"
     ]
    },
    {
     "name": "stdout",
     "output_type": "stream",
     "text": [
      "Loss on dev after 100 epochs: [ 0.3056598], accuracy: [ 0.69043152]\n",
      "Loss on test after 100 epochs: [ 0.32520324], accuracy: [ 0.66979362]\n"
     ]
    },
    {
     "name": "stderr",
     "output_type": "stream",
     "text": [
      "100% (100 of 100) |######################################################################| Elapsed Time: 0:00:09 Time: 0:00:09  3% (3 of 100) |##                                                                       | Elapsed Time: 0:00:00 ETA: 0:00:10\n",
      "  1% (1 of 100) |                                                                         | Elapsed Time: 0:00:00 ETA: 0:00:14"
     ]
    },
    {
     "name": "stdout",
     "output_type": "stream",
     "text": [
      "Loss on dev after 100 epochs: [ 0.3056598], accuracy: [ 0.69043152]\n",
      "Loss on test after 100 epochs: [ 0.32520324], accuracy: [ 0.66979362]\n"
     ]
    },
    {
     "name": "stderr",
     "output_type": "stream",
     "text": [
      "100% (100 of 100) |######################################################################| Elapsed Time: 0:00:09 Time: 0:00:09  3% (3 of 100) |##                                                                       | Elapsed Time: 0:00:00 ETA: 0:00:10\n",
      "  1% (1 of 100) |                                                                         | Elapsed Time: 0:00:00 ETA: 0:00:13"
     ]
    },
    {
     "name": "stdout",
     "output_type": "stream",
     "text": [
      "Loss on dev after 100 epochs: [ 0.3056598], accuracy: [ 0.69043152]\n",
      "Loss on test after 100 epochs: [ 0.32520324], accuracy: [ 0.66979362]\n"
     ]
    },
    {
     "name": "stderr",
     "output_type": "stream",
     "text": [
      "100% (100 of 100) |######################################################################| Elapsed Time: 0:00:09 Time: 0:00:09  3% (3 of 100) |##                                                                       | Elapsed Time: 0:00:00 ETA: 0:00:10\n",
      "  1% (1 of 100) |                                                                         | Elapsed Time: 0:00:00 ETA: 0:00:14"
     ]
    },
    {
     "name": "stdout",
     "output_type": "stream",
     "text": [
      "Loss on dev after 100 epochs: [ 0.3056598], accuracy: [ 0.69043152]\n",
      "Loss on test after 100 epochs: [ 0.32520324], accuracy: [ 0.66979362]\n"
     ]
    },
    {
     "name": "stderr",
     "output_type": "stream",
     "text": [
      "100% (100 of 100) |######################################################################| Elapsed Time: 0:00:09 Time: 0:00:09  3% (3 of 100) |##                                                                       | Elapsed Time: 0:00:00 ETA: 0:00:10\n",
      "  1% (1 of 100) |                                                                         | Elapsed Time: 0:00:00 ETA: 0:00:14"
     ]
    },
    {
     "name": "stdout",
     "output_type": "stream",
     "text": [
      "Loss on dev after 100 epochs: [ 0.3056598], accuracy: [ 0.69043152]\n",
      "Loss on test after 100 epochs: [ 0.32520324], accuracy: [ 0.66979362]\n"
     ]
    },
    {
     "name": "stderr",
     "output_type": "stream",
     "text": [
      "100% (100 of 100) |######################################################################| Elapsed Time: 0:00:09 Time: 0:00:09  3% (3 of 100) |##                                                                       | Elapsed Time: 0:00:00 ETA: 0:00:10\n",
      "  1% (1 of 100) |                                                                         | Elapsed Time: 0:00:00 ETA: 0:00:15"
     ]
    },
    {
     "name": "stdout",
     "output_type": "stream",
     "text": [
      "Loss on dev after 100 epochs: [ 0.3056598], accuracy: [ 0.69043152]\n",
      "Loss on test after 100 epochs: [ 0.32520324], accuracy: [ 0.66979362]\n"
     ]
    },
    {
     "name": "stderr",
     "output_type": "stream",
     "text": [
      "100% (100 of 100) |######################################################################| Elapsed Time: 0:00:09 Time: 0:00:09  3% (3 of 100) |##                                                                       | Elapsed Time: 0:00:00 ETA: 0:00:10\n",
      "  1% (1 of 100) |                                                                         | Elapsed Time: 0:00:00 ETA: 0:00:15"
     ]
    },
    {
     "name": "stdout",
     "output_type": "stream",
     "text": [
      "Loss on dev after 100 epochs: [ 0.3056598], accuracy: [ 0.69043152]\n",
      "Loss on test after 100 epochs: [ 0.32520324], accuracy: [ 0.66979362]\n"
     ]
    },
    {
     "name": "stderr",
     "output_type": "stream",
     "text": [
      "100% (100 of 100) |######################################################################| Elapsed Time: 0:00:09 Time: 0:00:09  3% (3 of 100) |##                                                                       | Elapsed Time: 0:00:00 ETA: 0:00:11\n",
      "  1% (1 of 100) |                                                                         | Elapsed Time: 0:00:00 ETA: 0:00:17"
     ]
    },
    {
     "name": "stdout",
     "output_type": "stream",
     "text": [
      "Loss on dev after 100 epochs: [ 0.3056598], accuracy: [ 0.69043152]\n",
      "Loss on test after 100 epochs: [ 0.32520324], accuracy: [ 0.66979362]\n"
     ]
    },
    {
     "name": "stderr",
     "output_type": "stream",
     "text": [
      "100% (100 of 100) |######################################################################| Elapsed Time: 0:00:09 Time: 0:00:09  3% (3 of 100) |##                                                                       | Elapsed Time: 0:00:00 ETA: 0:00:13\n",
      "N/A% (0 of 100) |                                                                       | Elapsed Time: 0:00:00 ETA:  --:--:--"
     ]
    },
    {
     "name": "stdout",
     "output_type": "stream",
     "text": [
      "Loss on dev after 100 epochs: [ 0.3056598], accuracy: [ 0.69043152]\n",
      "Loss on test after 100 epochs: [ 0.32520324], accuracy: [ 0.66979362]\n"
     ]
    },
    {
     "name": "stderr",
     "output_type": "stream",
     "text": [
      "100% (100 of 100) |######################################################################| Elapsed Time: 0:00:27 Time: 0:00:27  2% (2 of 100) |#                                                                        | Elapsed Time: 0:00:00 ETA: 0:00:27\n",
      "N/A% (0 of 100) |                                                                       | Elapsed Time: 0:00:00 ETA:  --:--:--"
     ]
    },
    {
     "name": "stdout",
     "output_type": "stream",
     "text": [
      "Loss on dev after 100 epochs: 0.29010888934135437, accuracy: 0.7066916823014384\n",
      "Loss on test after 100 epochs: 0.30032747983932495, accuracy: 0.6954346466541589\n"
     ]
    },
    {
     "name": "stderr",
     "output_type": "stream",
     "text": [
      "100% (100 of 100) |######################################################################| Elapsed Time: 0:00:28 Time: 0:00:28  2% (2 of 100) |#                                                                        | Elapsed Time: 0:00:00 ETA: 0:00:25\n",
      "N/A% (0 of 100) |                                                                       | Elapsed Time: 0:00:00 ETA:  --:--:--"
     ]
    },
    {
     "name": "stdout",
     "output_type": "stream",
     "text": [
      "Loss on dev after 100 epochs: 0.30025187134742737, accuracy: 0.6985616010006254\n",
      "Loss on test after 100 epochs: 0.30845949053764343, accuracy: 0.6885553470919324\n"
     ]
    },
    {
     "name": "stderr",
     "output_type": "stream",
     "text": [
      "100% (100 of 100) |######################################################################| Elapsed Time: 0:00:27 Time: 0:00:27  2% (2 of 100) |#                                                                        | Elapsed Time: 0:00:00 ETA: 0:00:28\n",
      "N/A% (0 of 100) |                                                                       | Elapsed Time: 0:00:00 ETA:  --:--:--"
     ]
    },
    {
     "name": "stdout",
     "output_type": "stream",
     "text": [
      "Loss on dev after 100 epochs: 0.5084272623062134, accuracy: 0.4915572232645403\n",
      "Loss on test after 100 epochs: 0.49211055040359497, accuracy: 0.5078173858661663\n"
     ]
    },
    {
     "name": "stderr",
     "output_type": "stream",
     "text": [
      "100% (100 of 100) |######################################################################| Elapsed Time: 0:00:27 Time: 0:00:27  2% (2 of 100) |#                                                                        | Elapsed Time: 0:00:00 ETA: 0:00:30\n",
      "N/A% (0 of 100) |                                                                       | Elapsed Time: 0:00:00 ETA:  --:--:--"
     ]
    },
    {
     "name": "stdout",
     "output_type": "stream",
     "text": [
      "Loss on dev after 100 epochs: 0.29484695196151733, accuracy: 0.7035647279549718\n",
      "Loss on test after 100 epochs: 0.30881547927856445, accuracy: 0.6904315196998124\n"
     ]
    },
    {
     "name": "stderr",
     "output_type": "stream",
     "text": [
      "100% (100 of 100) |######################################################################| Elapsed Time: 0:00:25 Time: 0:00:25  2% (2 of 100) |#                                                                        | Elapsed Time: 0:00:00 ETA: 0:00:22\n",
      "N/A% (0 of 100) |                                                                       | Elapsed Time: 0:00:00 ETA:  --:--:--"
     ]
    },
    {
     "name": "stdout",
     "output_type": "stream",
     "text": [
      "Loss on dev after 100 epochs: 0.31006625294685364, accuracy: 0.6866791744840526\n",
      "Loss on test after 100 epochs: 0.31565889716148376, accuracy: 0.6804252657911195\n"
     ]
    },
    {
     "name": "stderr",
     "output_type": "stream",
     "text": [
      "100% (100 of 100) |######################################################################| Elapsed Time: 0:00:24 Time: 0:00:24  2% (2 of 100) |#                                                                        | Elapsed Time: 0:00:00 ETA: 0:00:23\n",
      "N/A% (0 of 100) |                                                                       | Elapsed Time: 0:00:00 ETA:  --:--:--"
     ]
    },
    {
     "name": "stdout",
     "output_type": "stream",
     "text": [
      "Loss on dev after 100 epochs: 0.5059831738471985, accuracy: 0.49405878674171355\n",
      "Loss on test after 100 epochs: 0.49456387758255005, accuracy: 0.5053158223889931\n"
     ]
    },
    {
     "name": "stderr",
     "output_type": "stream",
     "text": [
      "100% (100 of 100) |######################################################################| Elapsed Time: 0:00:28 Time: 0:00:28  2% (2 of 100) |#                                                                        | Elapsed Time: 0:00:00 ETA: 0:00:23\n",
      "N/A% (0 of 100) |                                                                       | Elapsed Time: 0:00:00 ETA:  --:--:--"
     ]
    },
    {
     "name": "stdout",
     "output_type": "stream",
     "text": [
      "Loss on dev after 100 epochs: 0.2914016842842102, accuracy: 0.7048155096935584\n",
      "Loss on test after 100 epochs: 0.3072618544101715, accuracy: 0.6898061288305191\n"
     ]
    },
    {
     "name": "stderr",
     "output_type": "stream",
     "text": [
      "100% (100 of 100) |######################################################################| Elapsed Time: 0:00:28 Time: 0:00:28  2% (2 of 100) |#                                                                        | Elapsed Time: 0:00:00 ETA: 0:00:27\n",
      "N/A% (0 of 100) |                                                                       | Elapsed Time: 0:00:00 ETA:  --:--:--"
     ]
    },
    {
     "name": "stdout",
     "output_type": "stream",
     "text": [
      "Loss on dev after 100 epochs: 0.3085114657878876, accuracy: 0.6904315196998124\n",
      "Loss on test after 100 epochs: 0.3167217969894409, accuracy: 0.6804252657911195\n"
     ]
    },
    {
     "name": "stderr",
     "output_type": "stream",
     "text": [
      "100% (100 of 100) |######################################################################| Elapsed Time: 0:00:25 Time: 0:00:25  2% (2 of 100) |#                                                                        | Elapsed Time: 0:00:00 ETA: 0:00:25\n",
      "N/A% (0 of 100) |                                                                       | Elapsed Time: 0:00:00 ETA:  --:--:--"
     ]
    },
    {
     "name": "stdout",
     "output_type": "stream",
     "text": [
      "Loss on dev after 100 epochs: 0.2966122031211853, accuracy: 0.7023139462163852\n",
      "Loss on test after 100 epochs: 0.2940548360347748, accuracy: 0.7035647279549718\n"
     ]
    },
    {
     "name": "stderr",
     "output_type": "stream",
     "text": [
      "100% (100 of 100) |######################################################################| Elapsed Time: 0:00:27 Time: 0:00:27  2% (2 of 100) |#                                                                        | Elapsed Time: 0:00:00 ETA: 0:00:23\n"
     ]
    },
    {
     "name": "stdout",
     "output_type": "stream",
     "text": [
      "Loss on dev after 100 epochs: 0.28633901476860046, accuracy: 0.7098186366479049\n",
      "Loss on test after 100 epochs: 0.2988188564777374, accuracy: 0.6979362101313321\n",
      "Average training time (seconds): {'run_tensorflow': 27.315894603729248, 'run_numpy': 9.2817548751831058}\n"
     ]
    }
   ],
   "source": [
    "def speed_comparison(runs=10):\n",
    "    timings_by_system = {}\n",
    "    for train_system in [run_numpy, run_tensorflow]:\n",
    "        timings = np.empty((runs))\n",
    "        for r in range(runs):\n",
    "            t0 = time.time()\n",
    "            train_system(epochs=100, batch_size=10, learning_rate=0.01)\n",
    "            t1 = time.time()\n",
    "            timings[r] = t1 - t0\n",
    "        timings_by_system[train_system.__name__] = np.mean(timings)\n",
    "    print(\"Average training time (seconds): \" + str(timings_by_system))\n",
    "    \n",
    "speed_comparison()\n",
    "# console output:\n",
    "# Average training time (seconds): {'run_numpy': 8.8820782661437985, 'run_tensorflow': 22.123092341423035}"
   ]
  }
 ],
 "metadata": {
  "kernelspec": {
   "display_name": "Python 3",
   "language": "python",
   "name": "python3"
  },
  "language_info": {
   "codemirror_mode": {
    "name": "ipython",
    "version": 3
   },
   "file_extension": ".py",
   "mimetype": "text/x-python",
   "name": "python",
   "nbconvert_exporter": "python",
   "pygments_lexer": "ipython3",
   "version": "3.5.2"
  }
 },
 "nbformat": 4,
 "nbformat_minor": 2
}
