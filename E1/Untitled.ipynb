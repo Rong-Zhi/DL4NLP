{
 "cells": [
  {
   "cell_type": "code",
   "execution_count": null,
   "metadata": {
    "collapsed": true
   },
   "outputs": [],
   "source": [
    "def weight_update_and_loss(w,np_input_label,np_input_data):\n",
    "    #shuffle the input data\n",
    "    input = list(zip(np_input_label,np_input_data))\n",
    "    random.shuffle(input)\n",
    "\n",
    "    #seperate input review data and label\n",
    "    input_review_data = [a[1] for a in input]\n",
    "    input_label_class = [a[0] for a in input]\n",
    "\n",
    "    np.random.seed(0)\n",
    "    mini_batch = np.random.randint(15)\n",
    "\n",
    "    x = input_review_data[:mini_batch]\n",
    "    y = input_label_class[:mini_batch]\n",
    "\n",
    "    sig_x_mul_w = sigmond(np.dot(x,w))\n",
    "    sig_minus_y = sig_x_mul_w - y\n",
    "\n",
    "    sig_deri_x_mul_w = sigmond(np.dot(x,w)) * (1 - sigmond(np.dot(x,w)))\n",
    "    temp1 = sig_minus_y * sig_deri_x_mul_w\n",
    "    x_transpose = np.transpose(x)\n",
    "    temp2 =temp1 * x_transpose\n",
    "    sum_value = np.sum(temp2,axis = 1)\n",
    "    # loss function\n",
    "    loss = np.sum(np.square(sig_minus_y) )\n",
    "    w_new = w - (alpha/mini_batch) * sum_value\n",
    "\n",
    "\n",
    "    # calculate accuracy\n",
    "    prediction = []\n",
    "    for num in sig_minus_y:\n",
    "        if(num>0.5 and num == 0.5):\n",
    "            prediction.append(1)\n",
    "        elif(num<0.5):\n",
    "            prediction.append(0)\n",
    "\n",
    "    accuracy = cal_accuracy(prediction, np_input_label)\n",
    "    return w_new,loss, accuracy"
   ]
  }
 ],
 "metadata": {
  "kernelspec": {
   "display_name": "Python 3",
   "language": "python",
   "name": "python3"
  },
  "language_info": {
   "codemirror_mode": {
    "name": "ipython",
    "version": 3
   },
   "file_extension": ".py",
   "mimetype": "text/x-python",
   "name": "python",
   "nbconvert_exporter": "python",
   "pygments_lexer": "ipython3",
   "version": "3.5.2"
  }
 },
 "nbformat": 4,
 "nbformat_minor": 2
}
