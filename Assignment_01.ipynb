{
 "cells": [
  {
   "cell_type": "markdown",
   "metadata": {},
   "source": [
    "# DL4NLP SS17 Home Exercise 01\n",
    "----------------------------------"
   ]
  },
  {
   "cell_type": "markdown",
   "metadata": {},
   "source": [
    "## Task 1 Setup (1P)\n",
    "Install Python 3, numpy and Jupyter on your machine."
   ]
  },
  {
   "cell_type": "markdown",
   "metadata": {},
   "source": [
    "## Task 2 Perceptron Learning\n",
    "### Task 2.1 Sigmoid Activation Function (1P)\n",
    "When optimizing functions, first or higher-order derivatives (gradients, Hessians) are of major importance. In neural network learning, we typically want to minimize weight parameters so that the difference between the net output and the true labels is minimized, e.g.:\n",
    "\n",
    "\\begin{equation}\n",
    "  \\text{min}_\\mathbf{w}\\sum_{j=1}^N \\Bigl(\\sigma(\\mathbf{x}_j \\cdot \\mathbf{w})-y_j\\Bigr)^2\n",
    "\\end{equation}\n",
    "\n",
    "Here, $\\sigma$ is an activation function. A frequently used activation function is the *sigmoid* function, defined as:\n",
    "\n",
    "\\begin{equation}\n",
    "  \\text{sig}(x) = \\frac{1}{1+\\exp(-x)}\n",
    "\\end{equation}\n",
    "\n",
    "Show that:\n",
    "\n",
    "\\begin{equation}\n",
    "    \\text{sig}'(x) = \\text{sig}(x) \\cdot \\bigl(1-\\text{sig}(x)\\bigr)\n",
    "\\end{equation}\n",
    "\n",
    "You may find the chain rule useful: $f(g(x))' = f'(g(x))\\cdot g'(x)$\n",
    "\n",
    "### Task 2.2 Perceptron Learning by Hand (2P)\n",
    "A simple perceptron learning algorithm was introduced in the lecture (slide 88). Here is the weight update rule again for reference:\n",
    "\\begin{equation}\n",
    "    w' \\leftarrow w - \\alpha \\sum_{(\\mathbf{x},y)\\in\\mathcal{T}'} \\Bigl(\\sigma(\\mathbf{x} \\cdot \\mathbf{w}) - y\\Bigr) \\cdot \\sigma'(\\mathbf{x} \\cdot \\mathbf{w}) \\cdot x^T\n",
    "\\end{equation}\n",
    "The weight update rule is designed to minimize the square loss between the perceptron output and the target labels (see slide 87).\n",
    "\n",
    "#### a) Training\n",
    "\n",
    "Train a perceptron using the abovementioned algorithm and report the weight vector $w_j$ after each weight update. Run one epoch (one training pass over the training data) with the following parameters:\n",
    "* activation function $\\sigma = \\text{sig}$ (see Task 2)\n",
    "* initial weight vector $w_0 = (-1, 1)^T$\n",
    "* learning rate $\\alpha = 1$\n",
    "* batch size $N'=1$, i.e. one weight vector update per data point $(\\mathbf{x}, y)$\n",
    "* training data $T$:\n",
    "\n",
    "| $j$ | $x_1$ | $x_2$ | $y$ |\n",
    "|----:|------:|------:|----:|\n",
    "|  1  | -1.28 |  0.09 |  0  |\n",
    "|  2  | 0.17  |  0.39 |  1  |\n",
    "|  3  | 1.36  |  0.46 |  1  |\n",
    "|  4  | -0.51 | -0.32 |  0  |\n",
    "\n",
    "#### b) Evaluation\n",
    "\n",
    "Compute the square loss $L$ before (using $w_0$) and after training (using $w_4$) on the following test data:\n",
    "\n",
    "| $j$ | $x_1$ | $x_2$ | $y$ |\n",
    "|----:|------:|------:|----:|\n",
    "|  1  | -0.50 | -1.00 |  0  |\n",
    "|  2  |  0.75 |  0.25 |  1  |\n",
    "\n",
    "Square loss is defined as (see Task 2 and slide 87):\n",
    "\\begin{equation}\n",
    "    L = \\sum_{j=1}^N \\ell(\\mathbf{x}_j, y) = \\sum_{j=1}^N (\\sigma(\\mathbf{x}_j \\cdot \\mathbf{w}) - y_j)^2\n",
    "\\end{equation}\n",
    "\n",
    "### Task 2.3 Decision Boundary and Plotting (1P)\n",
    "A perceptron learns a linear decision boundary. The activation function $\\sigma(\\mathbf{x} \\cdot \\mathbf{w})$ used throughout this exercise corresponds to a decision boundary $x_1 \\cdot w_1 + x_2 \\cdot w_2 = 0$ (Hesse normal form).\n",
    "\n",
    "Create a plot with [matplotlib](https://matplotlib.org/contents.html) that shows:\n",
    "* the training and test data points from Task 2.2\n",
    "* the decision boundaries before and after training"
   ]
  },
  {
   "cell_type": "markdown",
   "metadata": {},
   "source": [
    "# Answer:\n",
    "## Task 2.1\n",
    "\n",
    "Given that\n",
    "\\begin{equation}\n",
    "  \\text{sig}(x) = \\frac{1}{1+\\exp(-x)}\n",
    "\\end{equation}\n",
    "\n",
    "We have:\n",
    "\\begin{equation}\n",
    "    \\frac{d \\text{sig}(x)}{dx} =-\\lgroup{\\frac{1}{1+\\exp(-x)})^2} \\frac{d}{dx}(1+\\exp(-x)) \\\\\n",
    "    = \\lgroup{\\frac{1}{1+\\exp(-x)})^2} \\exp(-x)\\\\\n",
    "    =\\lgroup{\\frac{1}{1+\\exp(-x)})}\\lgroup{1-\\frac{1}{1+\\exp(-x)})}\n",
    "\\end{equation}\n",
    "\n",
    "\n",
    "Which is:\n",
    "\\begin{equation}\n",
    "    \\text{sig}'(x) = \\text{sig}(x) \\cdot \\bigl(1-\\text{sig}(x)\\bigr)\n",
    "\\end{equation}"
   ]
  },
  {
   "cell_type": "markdown",
   "metadata": {},
   "source": [
    "## Task 2.2"
   ]
  },
  {
   "cell_type": "code",
   "execution_count": 160,
   "metadata": {
    "collapsed": true
   },
   "outputs": [],
   "source": [
    "import numpy as np\n",
    "import matplotlib.pyplot as plt\n",
    "w0 = np.matrix('-1,1')\n",
    "x_train = np.matrix('-1.28,0.09;0.17,0.39;1.36,0.46;-0.51,-0.32')\n",
    "y_train = np.matrix('0;1;1;0')\n",
    "x_test = np.matrix('-0.50,-1.00;0.75,0.25')\n",
    "y_test = np.matrix('0;1')\n",
    "alpha = 1\n",
    "N = 1\n",
    "%matplotlib inline"
   ]
  },
  {
   "cell_type": "code",
   "execution_count": 161,
   "metadata": {
    "collapsed": true
   },
   "outputs": [],
   "source": [
    "# define function and update rule here\n",
    "# sigmoid function \n",
    "def sig(x):\n",
    "    return 1 / (1 + np.exp(-x))\n",
    "    \n",
    "# derivative of sigmoid\n",
    "def dsig(x):\n",
    "    return np.multiply(sig(x),(x/x-sig(x)))\n",
    "\n",
    "# update of weights\n",
    "def update(w_old,x,y,alpha):\n",
    "    y_pred = sig(np.matmul(x,w_old.T))\n",
    "    w_new = w_old - alpha*(y_pred - y)*dsig(y_pred)*x\n",
    "    return w_new\n",
    "\n",
    "# Loss\n",
    "def square_loss(y_true,y_pred):\n",
    "    loss = np.multiply(y_pred-y_true,y_pred-y_true)\n",
    "    return np.sum(loss)\n"
   ]
  },
  {
   "cell_type": "code",
   "execution_count": 162,
   "metadata": {},
   "outputs": [],
   "source": [
    "# Training\n",
    "for idx in range(4):\n",
    "    w_new = update(w_old,x_train[idx],y_train[idx],alpha)\n",
    "    w_old = w_new"
   ]
  },
  {
   "cell_type": "code",
   "execution_count": 163,
   "metadata": {},
   "outputs": [
    {
     "data": {
      "text/plain": [
       "0.52999257559681101"
      ]
     },
     "execution_count": 163,
     "metadata": {},
     "output_type": "execute_result"
    }
   ],
   "source": [
    "# Testing\n",
    "# before training\n",
    "y_before = sig(np.matmul(x_test,w0.T)) \n",
    "square_loss(y_before,y_test)"
   ]
  },
  {
   "cell_type": "code",
   "execution_count": 164,
   "metadata": {},
   "outputs": [
    {
     "data": {
      "text/plain": [
       "0.13250542042046487"
      ]
     },
     "execution_count": 164,
     "metadata": {},
     "output_type": "execute_result"
    }
   ],
   "source": [
    "# after training\n",
    "y_after = sig(np.matmul(x_test,w_new.T)) \n",
    "square_loss(y_after,y_test)"
   ]
  },
  {
   "cell_type": "markdown",
   "metadata": {},
   "source": [
    "## Tast 2.3"
   ]
  },
  {
   "cell_type": "code",
   "execution_count": 165,
   "metadata": {},
   "outputs": [
    {
     "name": "stderr",
     "output_type": "stream",
     "text": [
      "/usr/lib/python3/dist-packages/matplotlib/collections.py:549: FutureWarning: elementwise comparison failed; returning scalar instead, but in the future will perform elementwise comparison\n",
      "  if self._edgecolors == 'face':\n"
     ]
    },
    {
     "data": {
      "image/png": "[encoded data removed]",
      "text/plain": [
       "<matplotlib.figure.Figure at 0x7f49160cfcf8>"
      ]
     },
     "metadata": {},
     "output_type": "display_data"
    }
   ],
   "source": [
    "# Boundary before training\n",
    "x1 = np.zeros(6)\n",
    "x2_origin = np.zeros(6)\n",
    "x1[0:4] = x_train.T[0]\n",
    "x1[4:6] = x_test.T[0]\n",
    "x2_origin[0:4] = x_train.T[1]  # since we have 6 samples here, and they share the same weights. \n",
    "                            # The plot based on 6 points is same as that based on 2, 3, 4, or 5 points\n",
    "x2_origin[4:6] = x_test.T[1]\n",
    "x2 = - w0[0,0]/w0[0,1] * x1\n",
    "plt.plot(x1,x2)\n",
    "plt.scatter(x1,x2_origin)\n",
    "plt.show()"
   ]
  },
  {
   "cell_type": "code",
   "execution_count": 166,
   "metadata": {},
   "outputs": [
    {
     "name": "stderr",
     "output_type": "stream",
     "text": [
      "/usr/lib/python3/dist-packages/matplotlib/collections.py:549: FutureWarning: elementwise comparison failed; returning scalar instead, but in the future will perform elementwise comparison\n",
      "  if self._edgecolors == 'face':\n"
     ]
    },
    {
     "data": {
      "image/png": "[encoded data removed]",
      "text/plain": [
       "<matplotlib.figure.Figure at 0x7f4915735e48>"
      ]
     },
     "metadata": {},
     "output_type": "display_data"
    }
   ],
   "source": [
    "# Boundary after training\n",
    "x1 = np.zeros(6)\n",
    "x2_origin = np.zeros(6)\n",
    "x1[0:4] = x_train.T[0]\n",
    "x1[4:6] = x_test.T[0]\n",
    "x2_origin[0:4] = x_train.T[1] # since we have 6 samples here, and they share the same weights. \n",
    "                            # The plot based on 6 points is same as that based on 2, 3, 4, or 5 points\n",
    "x2_origin[4:6] = x_test.T[1]\n",
    "x2 = - w_new[0,0]/w_new[0,1] * x1\n",
    "plt.plot(x1,x2)\n",
    "plt.scatter(x1,x2_origin)\n",
    "plt.show()"
   ]
  },
  {
   "cell_type": "markdown",
   "metadata": {
    "collapsed": true
   },
   "source": [
    "We can see the boundaies above. Obviously, the boundary after training is better than before training. Because the margin between two classes are lager after training."
   ]
  },
  {
   "cell_type": "code",
   "execution_count": null,
   "metadata": {
    "collapsed": true
   },
   "outputs": [],
   "source": []
  }
 ],
 "metadata": {
  "kernelspec": {
   "display_name": "Python 3",
   "language": "python",
   "name": "python3"
  },
  "language_info": {
   "codemirror_mode": {
    "name": "ipython",
    "version": 3
   },
   "file_extension": ".py",
   "mimetype": "text/x-python",
   "name": "python",
   "nbconvert_exporter": "python",
   "pygments_lexer": "ipython3",
   "version": "3.4.3"
  }
 },
 "nbformat": 4,
 "nbformat_minor": 2
}
